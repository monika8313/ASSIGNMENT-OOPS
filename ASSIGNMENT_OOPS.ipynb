{
  "nbformat": 4,
  "nbformat_minor": 0,
  "metadata": {
    "colab": {
      "provenance": []
    },
    "kernelspec": {
      "name": "python3",
      "display_name": "Python 3"
    },
    "language_info": {
      "name": "python"
    }
  },
  "cells": [
    {
      "cell_type": "markdown",
      "source": [
        "#**PYTHON OOPS QUESTION**"
      ],
      "metadata": {
        "id": "X-QyEo_OKOhv"
      }
    },
    {
      "cell_type": "markdown",
      "source": [
        "1. **What is Object-Oriented Programming (OOP)**?\n",
        "\n",
        "  -**Object-Oriented Programming (OOP)** is a programming paradigm based on the concept of “objects,” which are instances of classes. These objects can contain data (attributes) and functions (methods) that act on that data. Instead of just writing code as a sequence of instructions, OOP lets you model real-world things more naturally.\n",
        "Here are the four core pillars of OOP:\n",
        "* **Encapsulation** – Bundling data and methods that operate on that data within one unit (a class). It hides internal state and only exposes necessary parts, kind of like the buttons on a washing machine — you don’t need to know the internal workings to use it.\n",
        "* **Abstraction** – Showing only essential features and hiding the complex details. Think of it as driving a car: you interact with the pedals and steering wheel, not the engine internals.\n",
        "* **Inheritance** – One class (child) can inherit properties and behaviors from another (parent), promoting code reuse.\n",
        "* **Polymorphism** – Different classes can define methods with the same name, and the correct one is chosen based on the object’s type. Like how “move()” might make a bird fly and a fish swim.\n"
      ],
      "metadata": {
        "id": "zc7Kj8q_KXvL"
      }
    },
    {
      "cell_type": "markdown",
      "source": [
        "2. **What is a class in OOP?**\n",
        "\n",
        " -A class in Object-Oriented Programming is like a blueprint or template for creating objects. It defines the structure and behavior that its objects (instances) will have — just like an architect’s plan defines how a house will be built, but isn’t the actual house.\n",
        "Here’s how it breaks down:\n",
        "* **Attributes**: These are variables that store data related to the object.\n",
        "* **Methods**: These are functions defined inside the class that describe what the object can do.\n",
        "\n",
        " For example, in Python:\n",
        "\n"
      ],
      "metadata": {
        "id": "z2vXnmehts4R"
      }
    },
    {
      "cell_type": "code",
      "source": [
        "class Dog:\n",
        "    def __init__(self, name, breed):\n",
        "        self.name = name        # Attribute\n",
        "        self.breed = breed      # Attribute\n",
        "\n",
        "    def bark(self):             # Method\n",
        "        print(f\"{self.name} says woof!\")"
      ],
      "metadata": {
        "id": "63IVWOnUuahP"
      },
      "execution_count": null,
      "outputs": []
    },
    {
      "cell_type": "markdown",
      "source": [
        "Once the class is defined, you can create an object (or instance) from it:\n"
      ],
      "metadata": {
        "id": "96P1AiGVuhSE"
      }
    },
    {
      "cell_type": "code",
      "source": [
        "my_dog = Dog(\"Bruno\", \"Labrador\")\n",
        "my_dog.bark()"
      ],
      "metadata": {
        "colab": {
          "base_uri": "https://localhost:8080/"
        },
        "id": "UPISeSs-us0P",
        "outputId": "ea898049-5d8c-4da3-a951-bd96f57d70b5"
      },
      "execution_count": null,
      "outputs": [
        {
          "output_type": "stream",
          "name": "stdout",
          "text": [
            "Bruno says woof!\n"
          ]
        }
      ]
    },
    {
      "cell_type": "markdown",
      "source": [
        "So Dog is the class, and my_dog is the object — a specific Labrador named Bruno.\n"
      ],
      "metadata": {
        "id": "L_PdI2ZBu1YS"
      }
    },
    {
      "cell_type": "markdown",
      "source": [
        "3. **What is an object in OOP**?\n",
        "\n",
        " -An object in Object-Oriented Programming is like a real-world entity created using a class blueprint — it’s the actual instance that holds data and behaviors defined by the class.\n",
        "Think of it this way:\n",
        "- A class is like the design for a car.\n",
        "- An object is the car itself, built from that design — complete with wheels, engine, and the ability to drive.\n",
        "In Python, once you define a class, you create objects like this:\n",
        "class Dog:"
      ],
      "metadata": {
        "id": "d3HtxyYru6KV"
      }
    },
    {
      "cell_type": "code",
      "source": [
        "class Dog:\n",
        "    def __init__(self, name):\n",
        "        self.name = name\n",
        "\n",
        "    def bark(self):\n",
        "        print(f\"{self.name} barks!\")\n",
        "\n",
        "dog1 = Dog(\"Rex\")\n",
        "dog1.bark()"
      ],
      "metadata": {
        "colab": {
          "base_uri": "https://localhost:8080/"
        },
        "id": "rUHX7EyNxBNn",
        "outputId": "a28e1647-bba0-48ab-daf5-bfccd5146209"
      },
      "execution_count": null,
      "outputs": [
        {
          "output_type": "stream",
          "name": "stdout",
          "text": [
            "Rex barks!\n"
          ]
        }
      ]
    },
    {
      "cell_type": "markdown",
      "source": [
        "Here, dog1 is an object of the class Dog. It has its own name and can perform the bark() action.\n",
        "Objects allow you to create multiple individual instances with their own characteristics — just like you can have many dogs, each with a unique name and bark.\n"
      ],
      "metadata": {
        "id": "-AjrVVEAxJiN"
      }
    },
    {
      "cell_type": "markdown",
      "source": [
        "4. **What is the difference between abstraction and encapsulation?**\n",
        "\n",
        " -**Abstraction**\n",
        "\n",
        " Abstraction is the process of simplifying complex systems by exposing only the essential details while hiding the inner workings. It helps users interact with objects without needing to understand the full complexity behind them. For example, when using a TV remote, you don’t need to know how it communicates with the TV — you just press a button.\n",
        "\n",
        " In Python, abstraction can be implemented using abstract classes and interfaces (through the abc module), allowing developers to define a template for other classes to follow.\n",
        "\n",
        "\n",
        "  * **Encapsulation**\n",
        "\n",
        " Encapsulation is the technique of restricting direct access to some of an object’s components, essentially “wrapping” the data and methods inside a protective shell. This keeps the internal state of an object safe and allows access only through controlled interfaces like getter and setter methods. Think of it like a capsule of medicine: you can take it, but you can’t open it up to tamper with the contents.\n",
        "\n",
        " In Python, encapsulation is often enforced using private (__variable) or protected (_variable) members within a class.\n",
        "\n",
        "  **Key Difference**\n",
        "\n",
        "* **Abstraction** is about hiding the complexity and showing only what’s necessary.\n",
        "* **Encapsulation** is about hiding the internal data and controlling how it’s accessed and modified.\n"
      ],
      "metadata": {
        "id": "7osHquLsxXTs"
      }
    },
    {
      "cell_type": "markdown",
      "source": [
        "5. **What are dunder methods in Python?**\n",
        "\n",
        " -In Python, dunder methods (short for “double underscore” methods) are special, built-in methods that start and end with double underscores — like __init__, __len__, and __str__. They're also known as magic methods because they allow you to define how objects of your class behave with built-in operations and functions.\n",
        "Think of dunder methods as hooks that let you customize object behavior:\n",
        "- __init__(self, ...) → Runs when a new object is created (like a constructor).\n",
        "- __str__(self) → Defines what gets printed when you use print() on your object.\n",
        "- __len__(self) → Lets you use the len() function on your object.\n",
        "- __add__(self, other) → Defines behavior for the + operator.\n",
        "- __getitem__(self, key) → Makes objects behave like dictionaries or lists.\n",
        "\n",
        " Here's a quick example:\n"
      ],
      "metadata": {
        "id": "lgS56OcZzTbZ"
      }
    },
    {
      "cell_type": "code",
      "source": [
        "class Book:\n",
        "    def __init__(self, title):\n",
        "        self.title = title\n",
        "\n",
        "    def __str__(self):\n",
        "        return f\"Book: {self.title}\"\n",
        "\n",
        "my_book = Book(\"Python Magic\")\n",
        "print(my_book)"
      ],
      "metadata": {
        "colab": {
          "base_uri": "https://localhost:8080/"
        },
        "id": "h5jVRH2zz2sC",
        "outputId": "f01b22c6-78b7-4fd4-c9fb-ee6912174b0f"
      },
      "execution_count": null,
      "outputs": [
        {
          "output_type": "stream",
          "name": "stdout",
          "text": [
            "Book: Python Magic\n"
          ]
        }
      ]
    },
    {
      "cell_type": "markdown",
      "source": [
        " The __str__ method ensures that when you print my_book, it shows a friendly string instead of just a memory address.\n",
        "\n",
        " Dunder methods let your objects feel like native Python types — clean, readable, and intuitive.\n"
      ],
      "metadata": {
        "id": "ywZKE4itz9rF"
      }
    },
    {
      "cell_type": "markdown",
      "source": [
        "6. **Explain the concept of inheritance in OOP?**\n",
        "\n",
        " -Inheritance is a fundamental concept in Object-Oriented Programming (OOP) that allows a class to inherit properties and behaviors from another class, promoting code reuse and logical hierarchy.\n",
        "\n",
        " The class that is inherited from is called the parent (or base) class, and the class that inherits is called the child (or derived) class. The child class gains access to the parent’s attributes and methods, and it can also define its own or override the inherited ones for customized behavior.\n",
        "\n",
        " Let’s take a quick analogy: Imagine a general class Animal with a method make_sound(). Now, you create child classes like Dog and Cat that inherit from Animal. They get the make_sound() method from Animal, but they can override it to bark or meow, respectively.\n",
        "\n",
        " In Python, it looks like this:\n"
      ],
      "metadata": {
        "id": "R9qG-l0l0jS-"
      }
    },
    {
      "cell_type": "code",
      "source": [
        "class Animal:\n",
        "    def make_sound(self):\n",
        "        print(\"Some generic sound\")\n",
        "\n",
        "class Dog(Animal):\n",
        "    def make_sound(self):\n",
        "        print(\"Bark\")\n",
        "\n",
        "class Cat(Animal):\n",
        "    def make_sound(self):\n",
        "        print(\"Meow\")\n",
        "\n",
        "a = Animal()\n",
        "d = Dog()\n",
        "c = Cat()\n",
        "\n",
        "a.make_sound()\n",
        "d.make_sound()\n",
        "c.make_sound()"
      ],
      "metadata": {
        "colab": {
          "base_uri": "https://localhost:8080/"
        },
        "id": "ekMmh_UD1Zw-",
        "outputId": "70b4b592-8ee7-4a88-8006-a43fac225857"
      },
      "execution_count": null,
      "outputs": [
        {
          "output_type": "stream",
          "name": "stdout",
          "text": [
            "Some generic sound\n",
            "Bark\n",
            "Meow\n"
          ]
        }
      ]
    },
    {
      "cell_type": "markdown",
      "source": [
        "This allows for polymorphism, where the same method name behaves differently across classes, and makes your code cleaner, more modular, and easier to maintain.\n"
      ],
      "metadata": {
        "id": "D5VIthzS1rgS"
      }
    },
    {
      "cell_type": "markdown",
      "source": [
        "7. **What is polymorphism in OOP?**\n",
        "\n",
        " -Polymorphism in Object-Oriented Programming (OOP) is the concept that allows a single interface to represent different underlying forms (data types). In simpler terms, it means the same method or operation can behave differently on different classes.\n",
        "\n",
        " There are two common types of polymorphism:\n",
        "\n",
        " - Compile-time (or static) polymorphism – achieved through method overloading (not directly supported in Python like in some other languages, but can be mimicked using default parameters or variable arguments).\n",
        "\n",
        " - Runtime (or dynamic) polymorphism – occurs when a child class overrides a method from the parent class, and the actual method that gets called is determined at runtime based on the object's type.\n",
        "\n",
        "  Here's an example in Python:\n"
      ],
      "metadata": {
        "id": "8hZqRxpH12Ji"
      }
    },
    {
      "cell_type": "code",
      "source": [
        "class Bird:\n",
        "    def make_sound(self):\n",
        "        print(\"Some generic bird sound\")\n",
        "\n",
        "class Sparrow(Bird):\n",
        "    def make_sound(self):\n",
        "        print(\"Chirp chirp\")\n",
        "\n",
        "class Parrot(Bird):\n",
        "    def make_sound(self):\n",
        "        print(\"Squawk\")\n",
        "\n",
        "# Using polymorphism\n",
        "def play_sound(bird):\n",
        "    bird.make_sound()\n",
        "\n",
        "b1 = Sparrow()\n",
        "b2 = Parrot()\n",
        "\n",
        "play_sound(b1)\n",
        "play_sound(b2)"
      ],
      "metadata": {
        "colab": {
          "base_uri": "https://localhost:8080/"
        },
        "id": "Ah0MReMH24WT",
        "outputId": "bbdba739-95da-4555-edb7-ab026c92f832"
      },
      "execution_count": null,
      "outputs": [
        {
          "output_type": "stream",
          "name": "stdout",
          "text": [
            "Chirp chirp\n",
            "Squawk\n"
          ]
        }
      ]
    },
    {
      "cell_type": "markdown",
      "source": [
        " Even though the function play_sound() accepts a generic Bird, it behaves differently depending on which object is passed in. That’s the power of polymorphism — writing code that is flexible, extensible, and easier to maintain.\n"
      ],
      "metadata": {
        "id": "2mMQxYcV3A6P"
      }
    },
    {
      "cell_type": "markdown",
      "source": [
        "8. **How is encapsulation achieved in Python?**\n",
        "\n",
        " -In Python, encapsulation is achieved primarily through the use of classes and access modifiers to protect the internal state of an object and restrict direct access to its data. This means that the data (attributes) and the methods that operate on that data are bundled together, and sensitive information is hidden from the outside world to prevent unintended interference.\n",
        "\n",
        " Here’s how Python provides encapsulation:\n",
        "- Private and Protected Members:\n",
        "- Prefixing an attribute or method with a single underscore (_var) suggests it’s intended for internal use (a convention for \"protected\").\n",
        "- Prefixing with double underscores (__var) triggers name mangling, making it harder (but not impossible) to access from outside (a form of \"private\").\n",
        "- Getter and Setter Methods:\n",
        "These are used to access or modify private variables safely, often including validation logic.\n",
        "- Example:\n"
      ],
      "metadata": {
        "id": "vlXXytMM3Tnf"
      }
    },
    {
      "cell_type": "code",
      "source": [
        "class BankAccount:\n",
        "    def __init__(self, balance):\n",
        "        self.__balance = balance  # private attribute\n",
        "\n",
        "    def deposit(self, amount):\n",
        "        if amount > 0:\n",
        "            self.__balance += amount\n",
        "\n",
        "    def get_balance(self):  # getter method\n",
        "        return self.__balance\n",
        "\n",
        "account = BankAccount(1000)\n",
        "account.deposit(500)\n",
        "print(account.get_balance())"
      ],
      "metadata": {
        "colab": {
          "base_uri": "https://localhost:8080/"
        },
        "id": "oVoP4HGd31aZ",
        "outputId": "cfe6b2bb-0ee3-40ae-9bb3-973de184a596"
      },
      "execution_count": null,
      "outputs": [
        {
          "output_type": "stream",
          "name": "stdout",
          "text": [
            "1500\n"
          ]
        }
      ]
    },
    {
      "cell_type": "markdown",
      "source": [
        " In this example, the __balance attribute is encapsulated within the class. It's not accessible directly from outside (e.g., account.__balance would raise an error), and access is controlled via the get_balance() method.\n",
        "\n",
        " Encapsulation helps ensure that objects maintain a valid state and that internal details remain hidden, fostering cleaner, more maintainable code.\n"
      ],
      "metadata": {
        "id": "BgMcHRG-37Bx"
      }
    },
    {
      "cell_type": "markdown",
      "source": [
        "9. **What is a constructor in Python?**\n",
        "\n",
        " -In Python, a constructor is a special method used to initialize newly created objects from a class. It’s automatically called when you create an instance of the class and is typically named __init__.\n",
        "\n",
        " Think of it like setting up a new phone — as soon as you unbox it, the setup process begins: choosing language, connecting Wi-Fi, logging in. Similarly, when you create an object, the constructor sets up its initial state.\n",
        "\n",
        " Here’s a simple example:\n"
      ],
      "metadata": {
        "id": "EuAFAVqS4NMB"
      }
    },
    {
      "cell_type": "code",
      "source": [
        "class Student:\n",
        "    def __init__(self, name, grade):  # Constructor method\n",
        "        self.name = name              # Attribute assignment\n",
        "        self.grade = grade\n",
        "\n",
        "s1 = Student(\"Monika\", \"A\")\n",
        "print(s1.name)\n",
        "print(s1.grade)"
      ],
      "metadata": {
        "colab": {
          "base_uri": "https://localhost:8080/"
        },
        "id": "n86bFO9k48Er",
        "outputId": "bd7c0a92-406c-464b-a9dc-fd1513df5ea2"
      },
      "execution_count": null,
      "outputs": [
        {
          "output_type": "stream",
          "name": "stdout",
          "text": [
            "Monika\n",
            "A\n"
          ]
        }
      ]
    },
    {
      "cell_type": "markdown",
      "source": [
        " In this case, __init__ takes name and grade as arguments and assigns them to the object. Every time you create a Student object, this constructor ensures the object has its required data.\n",
        "\n"
      ],
      "metadata": {
        "id": "FHSsMsNc5FGl"
      }
    },
    {
      "cell_type": "markdown",
      "source": [
        "10. **What are class and static methods in Python?**\n",
        "\n",
        " -In Python, class methods and static methods are two types of methods that belong to a class but behave differently from regular instance methods.\n",
        "\n",
        " **Class Methods**\n",
        "\n",
        " A class method is one that operates on the class itself, rather than on instances of the class. It takes cls as its first parameter (instead of self) and is marked with the @classmethod decorator.\n",
        "\n",
        " Use case: When you need to access or modify class-level data or create instances in alternate ways.\n",
        "\n"
      ],
      "metadata": {
        "id": "eg70LQ9a5WrC"
      }
    },
    {
      "cell_type": "code",
      "source": [
        "class Book:\n",
        "    total_books = 0\n",
        "\n",
        "    def __init__(self, title):\n",
        "        self.title = title\n",
        "        Book.total_books += 1\n",
        "\n",
        "    @classmethod\n",
        "    def get_total_books(cls):\n",
        "        return cls.total_books"
      ],
      "metadata": {
        "id": "Q9LbwIHd6WRu"
      },
      "execution_count": null,
      "outputs": []
    },
    {
      "cell_type": "markdown",
      "source": [
        " Calling Book.get_total_books() gives you the total count of books — regardless of the specific instance.\n",
        "\n",
        "\n"
      ],
      "metadata": {
        "id": "uKKJZInq6aug"
      }
    },
    {
      "cell_type": "markdown",
      "source": [
        " **Static Methods**\n",
        "\n",
        " A static method doesn't take self or cls as the first argument. It’s just a function inside a class — defined with @staticmethod — that logically belongs to the class but doesn’t touch instance or class-level data.\n",
        "\n",
        " Use case: When the method performs an action relevant to the class but doesn’t need to know anything about it.\n"
      ],
      "metadata": {
        "id": "sqz4pDdy6mMJ"
      }
    },
    {
      "cell_type": "code",
      "source": [
        "class MathUtils:\n",
        "    @staticmethod\n",
        "    def add(a, b):\n",
        "        return a + b"
      ],
      "metadata": {
        "id": "ul89CH9m6x4y"
      },
      "execution_count": null,
      "outputs": []
    },
    {
      "cell_type": "markdown",
      "source": [
        "  Calling MathUtils.add(3, 4) works without needing to create an object.\n"
      ],
      "metadata": {
        "id": "gK0vxD-a6_J5"
      }
    },
    {
      "cell_type": "markdown",
      "source": [
        "11. **What is method overloading in Python?**\n",
        "\n",
        " -Method overloading refers to the ability to define multiple methods with the same name but different parameters, allowing the method to perform different tasks based on how it's called. In many languages like Java or C++, this is natively supported.\n",
        "\n",
        " However, Python does not support traditional method overloading. Instead, it provides flexibility through default arguments, *args and **kwargs, or conditional logic inside a single method.\n",
        "\n",
        " Here’s an example using default arguments:\n"
      ],
      "metadata": {
        "id": "TQrQ8e187FmY"
      }
    },
    {
      "cell_type": "code",
      "source": [
        "class Greet:\n",
        "    def hello(self, name=None):\n",
        "        if name:\n",
        "            print(f\"Hello, {name}!\")\n",
        "        else:\n",
        "            print(\"Hello!\")\n",
        "\n",
        "g = Greet()\n",
        "g.hello()\n",
        "g.hello(\"Monika\")"
      ],
      "metadata": {
        "colab": {
          "base_uri": "https://localhost:8080/"
        },
        "id": "vu0D6PqX7hvP",
        "outputId": "47f438b7-6aa4-42dc-b6eb-61c727a0acf1"
      },
      "execution_count": null,
      "outputs": [
        {
          "output_type": "stream",
          "name": "stdout",
          "text": [
            "Hello!\n",
            "Hello, Monika!\n"
          ]
        }
      ]
    },
    {
      "cell_type": "markdown",
      "source": [
        "  Although both calls use the same method name, the behavior adjusts depending on the arguments passed. Python essentially achieves method overloading by writing one flexible method rather than defining multiple versions.\n"
      ],
      "metadata": {
        "id": "-whBE8Na7sWt"
      }
    },
    {
      "cell_type": "markdown",
      "source": [
        "12. **What is method overriding in OOP?**\n",
        "\n",
        " -Method Overriding in OOP (Object-Oriented Programming) is a powerful feature that lets a subclass provide its own version of a method that is already defined in its parent (or superclass). It’s Python’s way of saying: “Hey, I know what my parent can do, but I’ve got my own twist on this!”\n",
        "\n",
        " **Key concepts**\n",
        "\n",
        "- Same name, different behavior: The method name stays the same, but the behavior is changed in the subclass.\n",
        "\n",
        "- Inheritance required: Overriding only happens when a class inherits from another class.\n",
        "\n",
        "- Polymorphism in action: This lets the same method call behave differently depending on the object’s actual class.\n",
        "\n",
        "  **-->**Basic Example in Python:\n",
        "\n",
        "  \n"
      ],
      "metadata": {
        "id": "BOzBYxpXT69j"
      }
    },
    {
      "cell_type": "code",
      "source": [
        "class Animal:\n",
        "    def speak(self):\n",
        "        return \"Some generic sound\"\n",
        "\n",
        "class Dog(Animal):\n",
        "    def speak(self):\n",
        "        return \"Woof!\"\n",
        "\n",
        "pet = Dog()\n",
        "print(pet.speak())"
      ],
      "metadata": {
        "colab": {
          "base_uri": "https://localhost:8080/"
        },
        "id": "B2cbTw_uVDCQ",
        "outputId": "c8673080-ecb3-4190-997c-5b4a7face500"
      },
      "execution_count": null,
      "outputs": [
        {
          "output_type": "stream",
          "name": "stdout",
          "text": [
            "Woof!\n"
          ]
        }
      ]
    },
    {
      "cell_type": "markdown",
      "source": [
        " Here, Dog overrides the speak() method of its parent class Animal.\n",
        "\n",
        "  **Why It Matters**\n",
        "\n",
        "- Encourages code reuse with customization.\n",
        "- Helps achieve runtime polymorphism.\n",
        "- Makes systems more flexible and easier to maintain.\n",
        "\n",
        "\n",
        "\n"
      ],
      "metadata": {
        "id": "q1frzslvVMYa"
      }
    },
    {
      "cell_type": "markdown",
      "source": [
        "13. **What is a property decorator in Python?**\n",
        "\n",
        " -The property decorator in Python allows you to define a method that can be accessed like an attribute. It’s commonly used to encapsulate getter logic while keeping syntax clean and intuitive.\n",
        "\n",
        " **Key Benefits:**\n",
        "\n",
        "- Provides read-only access to computed values.\n",
        "- Supports data validation through <property>.setter.\n",
        "- Enhances encapsulation and code readability.\n",
        "\n",
        "\n",
        " EXAMPLE:\n",
        "\n"
      ],
      "metadata": {
        "id": "eRElJ9wNVjBI"
      }
    },
    {
      "cell_type": "code",
      "source": [
        "class Circle:\n",
        "    def __init__(self, radius):\n",
        "        self._radius = radius\n",
        "\n",
        "    @property\n",
        "    def area(self):\n",
        "        return 3.14 * self._radius ** 2"
      ],
      "metadata": {
        "id": "r2VaN_UPVLcg"
      },
      "execution_count": null,
      "outputs": []
    },
    {
      "cell_type": "markdown",
      "source": [
        "14. **Why is polymorphism important in OOP?**\n",
        "\n",
        " -Polymorphism is a core pillar of Object-Oriented Programming (OOP) because it allows objects to be treated as instances of their parent class rather than their actual class. This makes code more flexible, extensible, and maintainable.\n",
        "\n",
        " Why Polymorphism Matters:\n",
        "\n",
        " 1. Code Reusability\n",
        "\n",
        "  You can write code that works on the base class, and it will automatically work with any subclass that overrides its behavior.\n"
      ],
      "metadata": {
        "id": "z9IUX7KAVRnu"
      }
    },
    {
      "cell_type": "code",
      "source": [
        "class Animal:\n",
        "    def speak(self):\n",
        "        pass\n",
        "\n",
        "class Dog(Animal):\n",
        "    def speak(self):\n",
        "        return \"Woof\"\n",
        "\n",
        "class Cat(Animal):\n",
        "    def speak(self):\n",
        "        return \"Meow\"\n",
        "\n",
        "def make_it_speak(animal):\n",
        "    print(animal.speak())  # Works for Dog, Cat, or any Animal subclass"
      ],
      "metadata": {
        "id": "sEiFxJhBV9k9"
      },
      "execution_count": null,
      "outputs": []
    },
    {
      "cell_type": "markdown",
      "source": [
        " 2. Extensibility\n",
        "\n",
        " You can add new subclasses with their own implementations without modifying existing code.\n",
        "\n",
        " 3. Decoupling\n",
        "\n",
        " Code becomes less dependent on concrete implementations—more about what an object can do than what it is.\n",
        "\n",
        " 4. Cleaner Interfaces\n",
        "\n",
        " It lets you define a common interface in a base class and enforce consistent behavior across multiple object types.\n"
      ],
      "metadata": {
        "id": "BrshXUAqWI3f"
      }
    },
    {
      "cell_type": "markdown",
      "source": [
        "15. **What is an abstract class in Python?**\n",
        "\n",
        " -An abstract class in Python is a class that cannot be instantiated on its own and is meant to be subclassed by other classes. It serves as a blueprint for derived classes and often includes one or more abstract methods—methods that must be implemented by any concrete (i.e. non-abstract) subclass.\n",
        "\n",
        " Why Use Abstract Classes?\n",
        "\n",
        " Abstract classes help define a standard interface for a group of related classes. This ensures consistency while enforcing a contract: any subclass must implement specific methods.\n",
        "\n",
        "\n",
        "   **How to Create One**\n",
        "\n",
        " You use the abc module:\n"
      ],
      "metadata": {
        "id": "Yax7hoaOWu86"
      }
    },
    {
      "cell_type": "code",
      "source": [
        "from abc import ABC, abstractmethod\n",
        "\n",
        "class Animal(ABC):\n",
        "    @abstractmethod\n",
        "    def make_sound(self):\n",
        "        pass"
      ],
      "metadata": {
        "id": "_sMH7Rd4XPJW"
      },
      "execution_count": null,
      "outputs": []
    },
    {
      "cell_type": "code",
      "source": [
        "a = Animal()  # ❌ Raises TypeError"
      ],
      "metadata": {
        "colab": {
          "base_uri": "https://localhost:8080/",
          "height": 141
        },
        "id": "kZDQ7oo_XSjF",
        "outputId": "82c9d4ed-a883-46d4-ed95-c24766197900"
      },
      "execution_count": null,
      "outputs": [
        {
          "output_type": "error",
          "ename": "TypeError",
          "evalue": "Can't instantiate abstract class Animal with abstract method make_sound",
          "traceback": [
            "\u001b[0;31m---------------------------------------------------------------------------\u001b[0m",
            "\u001b[0;31mTypeError\u001b[0m                                 Traceback (most recent call last)",
            "\u001b[0;32m/tmp/ipython-input-4-3264187029.py\u001b[0m in \u001b[0;36m<cell line: 0>\u001b[0;34m()\u001b[0m\n\u001b[0;32m----> 1\u001b[0;31m \u001b[0ma\u001b[0m \u001b[0;34m=\u001b[0m \u001b[0mAnimal\u001b[0m\u001b[0;34m(\u001b[0m\u001b[0;34m)\u001b[0m  \u001b[0;31m# ❌ Raises TypeError\u001b[0m\u001b[0;34m\u001b[0m\u001b[0;34m\u001b[0m\u001b[0m\n\u001b[0m",
            "\u001b[0;31mTypeError\u001b[0m: Can't instantiate abstract class Animal with abstract method make_sound"
          ]
        }
      ]
    },
    {
      "cell_type": "code",
      "source": [
        "class Dog(Animal):\n",
        "    def make_sound(self):\n",
        "        return \"Woof!\""
      ],
      "metadata": {
        "id": "QnNZL8PwXXuf"
      },
      "execution_count": null,
      "outputs": []
    },
    {
      "cell_type": "code",
      "source": [
        "d = Dog()\n",
        "print(d.make_sound())  # ✅ \"Woof!\""
      ],
      "metadata": {
        "colab": {
          "base_uri": "https://localhost:8080/"
        },
        "id": "HgG1SB3eXaat",
        "outputId": "e9cc906b-1735-4135-b7fb-21bedd15e57a"
      },
      "execution_count": null,
      "outputs": [
        {
          "output_type": "stream",
          "name": "stdout",
          "text": [
            "Woof!\n"
          ]
        }
      ]
    },
    {
      "cell_type": "markdown",
      "source": [
        " **key points**:\n",
        "\n",
        " - Abstract classes act as blueprints for other classes.\n",
        "\n",
        "- Defined using the abc module and subclassing ABC.\n",
        "\n",
        "- Cannot be instantiated directly.\n",
        "\n",
        "- Contain abstract methods marked with abstractmethod.\n",
        "\n",
        "- Abstract methods must be overridden in concrete subclasses.\n",
        "\n",
        "- Help enforce a consistent interface across related classes.\n",
        "\n",
        "- Promote code reuse, modularity, and better design in OOP.\n"
      ],
      "metadata": {
        "id": "s0ljrMiCXiiN"
      }
    },
    {
      "cell_type": "markdown",
      "source": [
        "16. **What are the advantages of OOP**?\n",
        "\n",
        " -**Core Advantages of OOP**\n",
        "\n",
        "- **Modularity**: Code is organized into classes and objects, making it easier to manage and navigate.\n",
        "\n",
        "- **Reusability**: Once a class is written, it can be reused across programs or projects via inheritance.\n",
        "\n",
        "- **Encapsulation**: Internal object details are hidden; access is controlled via methods, promoting security and clean interfaces.\n",
        "\n",
        "- **Polymorphism**: Same interface, different behavior—enhances flexibility and allows functions to work with objects of multiple types.\n",
        "\n",
        "- **Abstraction**: Focuses on essential features while hiding unnecessary implementation details—simplifies complex systems.\n",
        "\n",
        "- **Maintainability**: Changes in one part of the system have minimal impact on others—easier updates and debugging.\n",
        "\n",
        "- **Scalability**: Easier to expand and adapt systems as new requirements arise.\n",
        "\n",
        "- **Design Consistency**: Promotes structured, logical design through use of patterns, interfaces, and inheritance hierarchies.\n",
        "\n",
        "- **Collaboration**: Team members can work on different classes or modules without stepping on each other’s toes.\n"
      ],
      "metadata": {
        "id": "2FW-MeDiX6Bf"
      }
    },
    {
      "cell_type": "markdown",
      "source": [
        "17. **What is the difference between a class variable and an instance variable?**\n",
        "\n",
        " -Class Variables:\n",
        "\n",
        "- Shared by all instances of a class.\n",
        "- Defined inside the class, but outside any method.\n",
        "- Changing the value affects all objects of that class unless overridden.\n"
      ],
      "metadata": {
        "id": "2n0s_LmBYvoW"
      }
    },
    {
      "cell_type": "code",
      "source": [
        "class Dog:\n",
        "    species = \"Canis familiaris\"  # Class variable\n",
        "\n",
        "    def __init__(self, name):\n",
        "        self.name = name  # Instance variable"
      ],
      "metadata": {
        "id": "-uTHJAFBZF7o"
      },
      "execution_count": null,
      "outputs": []
    },
    {
      "cell_type": "markdown",
      "source": [
        "Instance Variables:\n",
        "\n",
        "- Unique to each instance (object).\n",
        "- Defined using self.variable_name inside a method, usually __init__.\n",
        "- Changing the value affects only that specific object.\n",
        "\n"
      ],
      "metadata": {
        "id": "mCoELhXxZKCF"
      }
    },
    {
      "cell_type": "code",
      "source": [
        "dog1 = Dog(\"Buddy\")\n",
        "dog2 = Dog(\"Max\")\n",
        "\n",
        "print(dog1.species)  # Canis familiaris\n",
        "print(dog1.name)     # Buddy"
      ],
      "metadata": {
        "colab": {
          "base_uri": "https://localhost:8080/"
        },
        "id": "7dsHJag7ZUKW",
        "outputId": "c5b32cfb-1a5a-47e0-c5b5-6ac72152cbec"
      },
      "execution_count": null,
      "outputs": [
        {
          "output_type": "stream",
          "name": "stdout",
          "text": [
            "Canis familiaris\n",
            "Buddy\n"
          ]
        }
      ]
    },
    {
      "cell_type": "code",
      "source": [
        "dog2.species = \"Wolf\"  # Overrides class variable only for dog2"
      ],
      "metadata": {
        "id": "1PJyz0mwZaol"
      },
      "execution_count": null,
      "outputs": []
    },
    {
      "cell_type": "markdown",
      "source": [
        " KEY DIFFERENCE:\n",
        "\n",
        " - Class variables are shared across all instances of a class.\n",
        "\n",
        "- Instance variables are unique to each object created from the class.\n",
        "- Class variables are defined outside any method, typically directly in the class body.\n",
        "- Instance variables are defined inside methods using self, usually in __init__().\n",
        "- Changing a class variable affects every instance unless overridden.\n",
        "- Changing an instance variable affects only that specific object.\n",
        "- Class variables are stored in the class’s namespace.\n",
        "- Instance variables are stored in the individual object’s namespace.\n"
      ],
      "metadata": {
        "id": "3XgVZH5FZh2F"
      }
    },
    {
      "cell_type": "markdown",
      "source": [
        "18. **What is multiple inheritance in Python**?\n",
        "\n",
        " -Multiple inheritance in Python allows a class to inherit attributes and methods from more than one parent class. It’s a powerful feature of Python’s object-oriented system that supports rich and flexible designs.\n",
        "\n",
        "🔗 Basic Concept:\n",
        "class Father:\n",
        "    def skills(self):\n",
        "        return \"Gardening\"\n",
        "\n",
        "class Mother:\n",
        "    def skills(self):\n",
        "        return \"Painting\"\n",
        "\n",
        "class Child(Father, Mother):\n",
        "    pass\n",
        "\n",
        "c = Child()\n",
        "print(c.skills())  # Output: Gardening (due to method resolution order)\n",
        "\n",
        "\n",
        "Even though both parents have a method named skills, Python uses the method resolution order (MRO) to decide which one is called. In this case, Father is listed first, so its version is used.\n",
        "\n",
        "🧠 Why It’s Useful:\n",
        "- Combines functionality from multiple sources.\n",
        "- Promotes code reuse and modular design.\n",
        "- Helps model complex relationships realistically.\n",
        "\n",
        "⚠️ What to Watch Out For:\n",
        "- Name conflicts between parent classes.\n",
        "- Diamond problem, where a shared ancestor could be inherited more than once.\n",
        "- Requires understanding of Python’s MRO (C3 linearization) to predict behavior.\n",
        "\n",
        "Let me know if you'd like to dive into MRO or try resolving a diamond inheritance scenario with super()—it’s a great way to see Python’s OOP magic in action!\n"
      ],
      "metadata": {
        "id": "ah41g1DPZtj1"
      }
    },
    {
      "cell_type": "markdown",
      "source": [
        "19. **Explain the purpose of ‘’__str__’ and ‘__repr__’ ‘ methods in Python.**\n",
        "\n",
        " -1. ** __str__() → Readable Representation**\n",
        "- Purpose: Returns a nicely formatted string for end users.\n",
        "- Goal: Something informative and readable (e.g., for print()).\n",
        "- Called by: str(obj) or print(obj).\n"
      ],
      "metadata": {
        "id": "rJirJXn_aK8T"
      }
    },
    {
      "cell_type": "code",
      "source": [
        "class Book:\n",
        "    def __init__(self, title):\n",
        "        self.title = title\n",
        "\n",
        "    def __str__(self):\n",
        "        return f\"Book: {self.title}\""
      ],
      "metadata": {
        "id": "r3F_ALwla-jN"
      },
      "execution_count": null,
      "outputs": []
    },
    {
      "cell_type": "markdown",
      "source": [
        " 2. ** __repr__() → Unambiguous Representation**\n",
        "\n",
        "- Purpose: Returns a string for developers or debugging.\n",
        "- Goal: Should look like a valid Python expression (often one that can recreate the object).\n",
        "- Called by: repr(obj) or directly in the interpreter.\n"
      ],
      "metadata": {
        "id": "NNX0yYHybEI3"
      }
    },
    {
      "cell_type": "code",
      "source": [
        "    def __repr__(self):\n",
        "        return f\"Book('{self.title}')\""
      ],
      "metadata": {
        "id": "25IJM1bLbMef"
      },
      "execution_count": null,
      "outputs": []
    },
    {
      "cell_type": "markdown",
      "source": [
        "20. **What is the significance of the ‘super()’ function in Python?**\n",
        "\n",
        " -The super() function is like a direct line to a class’s parent, and it's most commonly used in inheritance. When you use super(), you're saying: “Let me call the method from the parent class, but do it in a way that respects the inheritance hierarchy.”\n",
        "\n",
        " Here's why it matters:\n",
        "\n",
        "- Avoids hard-coding the parent class name, which makes your code more maintainable and flexible—especially in cases of multiple inheritance.\n",
        "- Ensures proper initialization of parent classes when you're overriding methods like __init__.\n",
        "- Plays a big role in cooperative multiple inheritance, allowing each class in the hierarchy to delegate work properly without missing a beat.\n",
        "\n",
        "Example:\n"
      ],
      "metadata": {
        "id": "0m6rw1Tmwylw"
      }
    },
    {
      "cell_type": "code",
      "source": [
        "class Animal:\n",
        "    def __init__(self, name):\n",
        "        self.name = name\n",
        "\n",
        "class Dog(Animal):\n",
        "    def __init__(self, name, breed):\n",
        "        super().__init__(name)  # Calls Animal's __init__\n",
        "        self.breed = breed"
      ],
      "metadata": {
        "id": "hBMmRFw0xZB7"
      },
      "execution_count": 1,
      "outputs": []
    },
    {
      "cell_type": "markdown",
      "source": [
        "21. **What is the significance of the __del__ method in Python?**\n",
        "\n",
        " -The __del__ method in Python is known as the destructor. It’s called when an object is about to be destroyed, which usually happens when there are no more references to it—essentially, when Python’s garbage collector decides it’s time to clean up.\n",
        "\n",
        " Why it matters:\n",
        "\n",
        "- Resource cleanup: You can use __del__ to release external resources like open files, network connections, or database handles.\n",
        "- Logging object lifecycle: It can be handy for debugging, by letting you track when and how objects get deleted.\n",
        "\n",
        " Basic example:\n"
      ],
      "metadata": {
        "id": "VOyEE7cox2FY"
      }
    },
    {
      "cell_type": "code",
      "source": [
        "class FileHandler:\n",
        "    def __init__(self, filename):\n",
        "        self.file = open(filename, 'w')\n",
        "\n",
        "    def __del__(self):\n",
        "        print(\"Closing file...\")\n",
        "        self.file.close()"
      ],
      "metadata": {
        "id": "S5IT8FJWyLyr"
      },
      "execution_count": 2,
      "outputs": []
    },
    {
      "cell_type": "markdown",
      "source": [
        "But here’s the catch: using __del__ is often discouraged unless absolutely necessary.\n",
        "Why caution is key:\n",
        "\n",
        "- Python doesn’t guarantee exact timing of __del__ execution.\n",
        "- If the object is part of a circular reference, __del__ may never get called unless manually handled.\n",
        "- If an exception occurs inside __del__, it won’t be raised—it gets silently ignored.\n",
        "\n",
        " In modern Python, context managers (with statement) are often the safer and more predictable way to handle cleanup.\n"
      ],
      "metadata": {
        "id": "AVCzHDaYyTOw"
      }
    },
    {
      "cell_type": "markdown",
      "source": [
        "22. **What is the difference between @staticmethod and @classmethod in Python?**\n",
        "\n",
        " -**@staticmethod**\n",
        "\n",
        " A static method doesn’t care about class or instance. It’s just a regular function that lives in the class namespace for organizational purposes.\n",
        "- No access to self or cls\n",
        "- Behaves like a plain function but is called from the class\n",
        "- Often used when logic relates to the class, but doesn't need class or instance data\n"
      ],
      "metadata": {
        "id": "TgI1SvCGyc0g"
      }
    },
    {
      "cell_type": "code",
      "source": [
        "class Math:\n",
        "    @staticmethod\n",
        "    def add(a, b):\n",
        "        return a + b"
      ],
      "metadata": {
        "id": "eJH4AmivzMAF"
      },
      "execution_count": 3,
      "outputs": []
    },
    {
      "cell_type": "markdown",
      "source": [
        "23. **How does polymorphism work in Python with inheritance**?\n",
        "\n",
        " -Polymorphism in Python is like a superpower of object-oriented programming—it lets different classes use the same method name, each in their own way. When combined with inheritance, it unlocks some elegant design patterns.\n",
        "\n",
        " At its core:\n",
        "\n",
        " Polymorphism means “many forms.” In Python, it allows subclasses to define their own version of a method that’s already defined in the parent class.\n",
        "\n",
        " Here's a simple example:\n"
      ],
      "metadata": {
        "id": "4TCaqx10zXVq"
      }
    },
    {
      "cell_type": "code",
      "source": [
        "class Animal:\n",
        "    def speak(self):\n",
        "        return \"Some sound\"\n",
        "\n",
        "class Dog(Animal):\n",
        "    def speak(self):\n",
        "        return \"Woof\"\n",
        "\n",
        "class Cat(Animal):\n",
        "    def speak(self):\n",
        "        return \"Meow\"\n",
        "\n",
        "def make_animal_speak(animal):\n",
        "    print(animal.speak())"
      ],
      "metadata": {
        "id": "LLEvcG6_zuYF"
      },
      "execution_count": 4,
      "outputs": []
    },
    {
      "cell_type": "markdown",
      "source": [
        " You can now pass any subclass instance to make_animal_speak(), and Python will automatically call the correct version of speak()—even though the function doesn’t know which type of animal it’s dealing with.\n"
      ],
      "metadata": {
        "id": "MJK9y_Hnz2mA"
      }
    },
    {
      "cell_type": "code",
      "source": [
        "make_animal_speak(Dog())  # Woof\n",
        "make_animal_speak(Cat())  # Meow"
      ],
      "metadata": {
        "colab": {
          "base_uri": "https://localhost:8080/"
        },
        "id": "L31v2Itqz6-i",
        "outputId": "075af62f-df37-4ed7-b017-43eb2ceba6d8"
      },
      "execution_count": 5,
      "outputs": [
        {
          "output_type": "stream",
          "name": "stdout",
          "text": [
            "Woof\n",
            "Meow\n"
          ]
        }
      ]
    },
    {
      "cell_type": "markdown",
      "source": [
        "   Why it’s powerful:\n",
        "\n",
        "- Code reuse: You can write generic code that works with any subclass.\n",
        "- Flexible interfaces: Objects can behave differently while sharing the same interface.\n",
        "- Scalability: You can add new classes without changing existing logic.\n",
        "\n",
        " It’s kind of like having a single “remote control” that can operate TVs, stereos, or air conditioners—as long as they all understand the same buttons.\n"
      ],
      "metadata": {
        "id": "8j58jYgo0AWp"
      }
    },
    {
      "cell_type": "markdown",
      "source": [
        "24. **What is method chaining in Python OOP?**\n",
        "\n",
        " -Method chaining in Python OOP is a sleek design pattern that lets you call multiple methods on the same object in a single, fluid line of code. It’s all about writing concise, readable, and expressive code—especially when working with objects that undergo a sequence of modifications or actions.\n",
        "\n",
        " How it works:\n",
        "\n",
        " Each method in the chain returns the object itself—usually via return self—so the next method can be called on that same object.\n",
        "\n",
        " Here's a quick example:\n",
        "\n"
      ],
      "metadata": {
        "id": "z73KsjUi0Wgp"
      }
    },
    {
      "cell_type": "code",
      "source": [
        "class TextBuilder:\n",
        "    def __init__(self):\n",
        "        self.text = \"\"\n",
        "\n",
        "    def add(self, word):\n",
        "        self.text += word + \" \"\n",
        "        return self\n",
        "\n",
        "    def uppercase(self):\n",
        "        self.text = self.text.upper()\n",
        "        return self\n",
        "\n",
        "    def display(self):\n",
        "        print(self.text.strip())\n",
        "        return self"
      ],
      "metadata": {
        "id": "QzS2naG40og6"
      },
      "execution_count": 6,
      "outputs": []
    },
    {
      "cell_type": "code",
      "source": [
        "TextBuilder().add(\"hello\").add(\"world\").uppercase().display()"
      ],
      "metadata": {
        "colab": {
          "base_uri": "https://localhost:8080/"
        },
        "id": "1tQwthSb0rWA",
        "outputId": "0d234965-d58f-412d-d466-44b13a97c15f"
      },
      "execution_count": 7,
      "outputs": [
        {
          "output_type": "stream",
          "name": "stdout",
          "text": [
            "HELLO WORLD\n"
          ]
        },
        {
          "output_type": "execute_result",
          "data": {
            "text/plain": [
              "<__main__.TextBuilder at 0x79c7b203f750>"
            ]
          },
          "metadata": {},
          "execution_count": 7
        }
      ]
    },
    {
      "cell_type": "markdown",
      "source": [
        " Why it's useful:\n",
        "\n",
        "- Cleaner code: No need for temporary variables or multiple lines.\n",
        "- Fluent interface: Especially elegant in builder patterns or configuration settings.\n",
        "- Improved readability: It reads almost like natural language.\n",
        "\n",
        " It’s like giving your object a to-do list, and it smoothly checks off each item in order.\n"
      ],
      "metadata": {
        "id": "cE8Wy8Om0vQw"
      }
    },
    {
      "cell_type": "markdown",
      "source": [
        "25. **What is the purpose of the __call__ method in Python**?\n",
        "\n",
        " -The __call__ method in Python is a bit of a show-off—and for good reason. It lets you treat instances of a class as if they were functions. When you \"call\" an instance, like obj(), Python internally translates that to obj.__call__().\n",
        "Why it's useful:\n",
        "\n",
        "- Function-like behavior: You can make objects behave like functions without losing the power of object-oriented design.\n",
        "- Stateful functions: Unlike regular functions, callable objects can maintain internal state across calls.\n",
        "- Flexible interfaces: You can create clean, intuitive APIs where objects carry context and still act like functions.\n",
        "\n",
        " Quick example:\n"
      ],
      "metadata": {
        "id": "dhWeIfi502Od"
      }
    },
    {
      "cell_type": "code",
      "source": [
        "class Greeter:\n",
        "    def __init__(self, greeting):\n",
        "        self.greeting = greeting\n",
        "\n",
        "    def __call__(self, name):\n",
        "        return f\"{self.greeting}, {name}!\"\n",
        "\n",
        "hello = Greeter(\"Hello\")\n",
        "print(hello(\"Monika\"))  # Output: Hello, Monika!"
      ],
      "metadata": {
        "colab": {
          "base_uri": "https://localhost:8080/"
        },
        "id": "OGEeY8K41I9M",
        "outputId": "20554a31-0124-442c-b44c-d852895a8cdf"
      },
      "execution_count": 8,
      "outputs": [
        {
          "output_type": "stream",
          "name": "stdout",
          "text": [
            "Hello, Monika!\n"
          ]
        }
      ]
    },
    {
      "cell_type": "markdown",
      "source": [
        "#**PRACTICAL QUESTIONS**"
      ],
      "metadata": {
        "id": "ivDxiemc1O5C"
      }
    },
    {
      "cell_type": "code",
      "source": [
        "# 1. Create a parent class Animal with a method speak() that prints a generic message. Create a child class Dog that overrides the speak() method to print \"Bark!\n",
        "\n",
        "class Animal:\n",
        "    def speak(self):\n",
        "        print(\"The animal makes a sound.\")\n",
        "\n",
        "class Dog(Animal):\n",
        "    def speak(self):\n",
        "        print(\"Bark!\")"
      ],
      "metadata": {
        "collapsed": true,
        "id": "vvgKQAZfyI1A"
      },
      "execution_count": 25,
      "outputs": []
    },
    {
      "cell_type": "code",
      "source": [
        "my_pet = Dog()\n",
        "my_pet.speak()"
      ],
      "metadata": {
        "colab": {
          "base_uri": "https://localhost:8080/",
          "height": 36
        },
        "id": "iW1zb4QV14q5",
        "outputId": "138145ac-202a-4e57-ead9-a6b6a7a955f5"
      },
      "execution_count": 10,
      "outputs": [
        {
          "output_type": "execute_result",
          "data": {
            "text/plain": [
              "'Woof'"
            ],
            "application/vnd.google.colaboratory.intrinsic+json": {
              "type": "string"
            }
          },
          "metadata": {},
          "execution_count": 10
        }
      ]
    },
    {
      "cell_type": "code",
      "source": [
        "# 2. Write a program to create an abstract class Shape with a method area(). Derive classes Circle and Rectangle from it and implement the area() method in both\n",
        "from abc import ABC, abstractmethod\n",
        "import math\n",
        "\n",
        "# Abstract base class\n",
        "class Shape(ABC):\n",
        "    @abstractmethod\n",
        "    def area(self):\n",
        "        pass\n",
        "\n",
        "# Derived class: Circle\n",
        "class Circle(Shape):\n",
        "    def __init__(self, radius):\n",
        "        self.radius = radius\n",
        "\n",
        "    def area(self):\n",
        "        return math.pi * self.radius ** 2\n",
        "\n",
        "# Derived class: Rectangle\n",
        "class Rectangle(Shape):\n",
        "    def __init__(self, width, height):\n",
        "        self.width = width\n",
        "        self.height = height\n",
        "\n",
        "    def area(self):\n",
        "        return self.width * self.height\n",
        "\n",
        "# Example usage\n",
        "circle = Circle(7)\n",
        "rectangle = Rectangle(5, 10)\n",
        "\n",
        "print(f\"Area of Circle: {circle.area():.2f}\")\n",
        "print(f\"Area of Rectangle: {rectangle.area()}\")"
      ],
      "metadata": {
        "colab": {
          "base_uri": "https://localhost:8080/"
        },
        "id": "RMqBAHny4UwW",
        "outputId": "8f5b78cb-68be-4747-f15b-d6e2f1c6f1d2"
      },
      "execution_count": 26,
      "outputs": [
        {
          "output_type": "stream",
          "name": "stdout",
          "text": [
            "Area of Circle: 153.94\n",
            "Area of Rectangle: 50\n"
          ]
        }
      ]
    },
    {
      "cell_type": "code",
      "source": [
        "# 3.  Implement a multi-level inheritance scenario where a class Vehicle has an attribute type. Derive a class Car and further derive a class Electric Car that adds a battery attribute.\n",
        "\n",
        "# Base class\n",
        "class Vehicle:\n",
        "    def __init__(self, v_type):\n",
        "        self.type = v_type\n",
        "\n",
        "    def show_type(self):\n",
        "        print(f\"Vehicle type: {self.type}\")\n",
        "\n",
        "# First-level derived class\n",
        "class Car(Vehicle):\n",
        "    def __init__(self, v_type, brand):\n",
        "        super().__init__(v_type)\n",
        "        self.brand = brand\n",
        "\n",
        "    def show_brand(self):\n",
        "        print(f\"Car brand: {self.brand}\")\n",
        "\n",
        "# Second-level derived class\n",
        "class ElectricCar(Car):\n",
        "    def __init__(self, v_type, brand, battery_capacity):\n",
        "        super().__init__(v_type, brand)\n",
        "        self.battery = battery_capacity\n",
        "\n",
        "    def show_battery(self):\n",
        "        print(f\"Battery capacity: {self.battery} kWh\")\n",
        "\n",
        "# Example usage\n",
        "ecar = ElectricCar(\"Four-wheeler\", \"Hyundai\", 45)\n",
        "ecar.show_type()\n",
        "ecar.show_brand()\n",
        "ecar.show_battery()"
      ],
      "metadata": {
        "colab": {
          "base_uri": "https://localhost:8080/"
        },
        "id": "nyKYi-K54nwL",
        "outputId": "7fd93ff8-1949-4b2b-8d54-76958aaa547d"
      },
      "execution_count": 27,
      "outputs": [
        {
          "output_type": "stream",
          "name": "stdout",
          "text": [
            "Vehicle type: Four-wheeler\n",
            "Car brand: Hyundai\n",
            "Battery capacity: 45 kWh\n"
          ]
        }
      ]
    },
    {
      "cell_type": "code",
      "source": [
        "# 4. Demonstrate polymorphism by creating a base class Bird with a method fly(). Create two derived classes Sparrow and Penguin that override the fly() method.\n",
        "\n",
        "# Base class\n",
        "class Bird:\n",
        "    def fly(self):\n",
        "        print(\"Bird is flying...\")\n",
        "\n",
        "# Derived class 1\n",
        "class Sparrow(Bird):\n",
        "    def fly(self):\n",
        "        print(\"Sparrow flies swiftly in the sky.\")\n",
        "\n",
        "# Derived class 2\n",
        "class Penguin(Bird):\n",
        "    def fly(self):\n",
        "        print(\"Penguins can't fly, but they sure can swim!\")\n",
        "\n",
        "# Polymorphic behavior\n",
        "def bird_flight(bird):\n",
        "    bird.fly()\n",
        "\n",
        "# Example usage\n",
        "sparrow = Sparrow()\n",
        "penguin = Penguin()\n",
        "\n",
        "bird_flight(sparrow)  # Outputs: Sparrow flies swiftly in the sky.\n",
        "bird_flight(penguin)  # Outputs: Penguins can't fly, but they sure can swim!\n"
      ],
      "metadata": {
        "colab": {
          "base_uri": "https://localhost:8080/"
        },
        "id": "mf2tIDN449rC",
        "outputId": "7d602b46-f759-446c-86fb-23237a1fb201"
      },
      "execution_count": 28,
      "outputs": [
        {
          "output_type": "stream",
          "name": "stdout",
          "text": [
            "Sparrow flies swiftly in the sky.\n",
            "Penguins can't fly, but they sure can swim!\n"
          ]
        }
      ]
    },
    {
      "cell_type": "code",
      "source": [
        "# 5.  Write a program to demonstrate encapsulation by creating a class Bank Account with private attributes balance and methods to deposit, withdraw, and check balance.\n",
        "\n",
        "class BankAccount:\n",
        "    def __init__(self, initial_balance=0):\n",
        "        self.__balance = initial_balance  # Private attribute\n",
        "\n",
        "    def deposit(self, amount):\n",
        "        if amount > 0:\n",
        "            self.__balance += amount\n",
        "            print(f\"Deposited ₹{amount}\")\n",
        "        else:\n",
        "            print(\"Deposit amount must be positive.\")\n",
        "\n",
        "    def withdraw(self, amount):\n",
        "        if 0 < amount <= self.__balance:\n",
        "            self.__balance -= amount\n",
        "            print(f\"Withdrawn ₹{amount}\")\n",
        "        else:\n",
        "            print(\"Insufficient funds or invalid amount.\")\n",
        "\n",
        "    def check_balance(self):\n",
        "        print(f\"Current balance: ₹{self.__balance}\")"
      ],
      "metadata": {
        "id": "GaJZ4IHd5QP0"
      },
      "execution_count": 29,
      "outputs": []
    },
    {
      "cell_type": "code",
      "source": [
        "account = BankAccount(1000)  # Starting with ₹1000\n",
        "account.deposit(500)\n",
        "account.withdraw(300)\n",
        "account.check_balance()"
      ],
      "metadata": {
        "colab": {
          "base_uri": "https://localhost:8080/"
        },
        "id": "eFlWfvr0560x",
        "outputId": "4cf60bb7-9190-4c20-ec07-13e21f5fb284"
      },
      "execution_count": 30,
      "outputs": [
        {
          "output_type": "stream",
          "name": "stdout",
          "text": [
            "Deposited ₹500\n",
            "Withdrawn ₹300\n",
            "Current balance: ₹1200\n"
          ]
        }
      ]
    },
    {
      "cell_type": "code",
      "source": [
        "# 6. Demonstrate runtime polymorphism using a method play() in a base class Instrument. Derive classes Guitar and Piano that implement their own version of play().\n",
        "\n",
        "# Base class\n",
        "class Instrument:\n",
        "    def play(self):\n",
        "        print(\"Playing an instrument\")\n",
        "\n",
        "# Derived class 1\n",
        "class Guitar(Instrument):\n",
        "    def play(self):\n",
        "        print(\"Strumming the guitar\")\n",
        "\n",
        "# Derived class 2\n",
        "class Piano(Instrument):\n",
        "    def play(self):\n",
        "        print(\"Playing the piano\")\n",
        "\n",
        "# Runtime polymorphism in action\n",
        "def start_playing(instrument: Instrument):\n",
        "    instrument.play()\n",
        "\n",
        "# Test it\n",
        "instruments = [Guitar(), Piano()]\n",
        "\n",
        "for instr in instruments:\n",
        "    start_playing(instr)\n"
      ],
      "metadata": {
        "colab": {
          "base_uri": "https://localhost:8080/"
        },
        "id": "BanvG5iW76kF",
        "outputId": "6a2dcad6-19f6-4a5d-c93c-731e4c283514"
      },
      "execution_count": 32,
      "outputs": [
        {
          "output_type": "stream",
          "name": "stdout",
          "text": [
            "Strumming the guitar\n",
            "Playing the piano\n"
          ]
        }
      ]
    },
    {
      "cell_type": "code",
      "source": [
        "# 7. Create a class MathOperations with a class method add_numbers() to add two numbers and a static method subtract_numbers() to subtract two numbers\n",
        "\n",
        "class MathOperations:\n",
        "    @classmethod\n",
        "    def add_numbers(cls, a, b):\n",
        "        return a + b\n",
        "\n",
        "    @staticmethod\n",
        "    def subtract_numbers(a, b):\n",
        "        return a - b\n",
        "\n",
        "# Example usage:\n",
        "print(\"Addition:\", MathOperations.add_numbers(10, 5))\n",
        "print(\"Subtraction:\", MathOperations.subtract_numbers(10, 5))"
      ],
      "metadata": {
        "colab": {
          "base_uri": "https://localhost:8080/"
        },
        "id": "h4mtcTR78Y-L",
        "outputId": "dab97b18-0406-4623-d7da-2a9f7a51dcfc"
      },
      "execution_count": 33,
      "outputs": [
        {
          "output_type": "stream",
          "name": "stdout",
          "text": [
            "Addition: 15\n",
            "Subtraction: 5\n"
          ]
        }
      ]
    },
    {
      "cell_type": "code",
      "source": [
        "# 8. Implement a class Person with a class method to count the total number of persons created.\n",
        "\n",
        "class Person:\n",
        "    count = 0  # Class variable to track number of instances\n",
        "\n",
        "    def __init__(self, name):\n",
        "        self.name = name\n",
        "        Person.count += 1  # Increment count whenever a new instance is created\n",
        "\n",
        "    @classmethod\n",
        "    def get_person_count(cls):\n",
        "        return cls.count\n",
        "\n",
        "# Example usage:\n",
        "p1 = Person(\"Alice\")\n",
        "p2 = Person(\"Bob\")\n",
        "\n",
        "print(\"Total persons created:\", Person.get_person_count())\n",
        "\n"
      ],
      "metadata": {
        "colab": {
          "base_uri": "https://localhost:8080/"
        },
        "id": "qgiQKpI88zVi",
        "outputId": "5a07b491-70a9-43a9-8b5b-ae24ef4ba4ae"
      },
      "execution_count": 35,
      "outputs": [
        {
          "output_type": "stream",
          "name": "stdout",
          "text": [
            "Total persons created: 2\n"
          ]
        }
      ]
    },
    {
      "cell_type": "code",
      "source": [
        "# 9.  Write a class Fraction with attributes numerator and denominator. Override the str method to display thefraction as \"numerator/denominator\n",
        "\n",
        "class Fraction:\n",
        "    def __init__(self, numerator, denominator):\n",
        "        self.numerator = numerator\n",
        "        self.denominator = denominator\n",
        "\n",
        "    def __str__(self):\n",
        "        return f\"{self.numerator}/{self.denominator}\"\n",
        "\n",
        "# Example usage:\n",
        "f = Fraction(3, 4)\n",
        "print(f)"
      ],
      "metadata": {
        "colab": {
          "base_uri": "https://localhost:8080/"
        },
        "id": "eFsK4tGU9Jz8",
        "outputId": "75f80484-4954-4548-8bfe-6a583c758ebc"
      },
      "execution_count": 37,
      "outputs": [
        {
          "output_type": "stream",
          "name": "stdout",
          "text": [
            "3/4\n"
          ]
        }
      ]
    },
    {
      "cell_type": "code",
      "source": [
        "# 10. Demonstrate operator overloading by creating a class Vector and overriding the add method to add two vectors\n",
        "\n",
        "class Vector:\n",
        "    def __init__(self, x, y):\n",
        "        self.x = x\n",
        "        self.y = y\n",
        "\n",
        "    def __add__(self, other):\n",
        "        return Vector(self.x + other.x, self.y + other.y)\n",
        "\n",
        "    def __str__(self):\n",
        "        return f\"({self.x}, {self.y})\"\n",
        "\n",
        "# Example usage:\n",
        "v1 = Vector(2, 3)\n",
        "v2 = Vector(4, 5)\n",
        "v3 = v1 + v2  # Uses overloaded + operator\n",
        "\n",
        "print(\"Resultant Vector:\", v3)"
      ],
      "metadata": {
        "colab": {
          "base_uri": "https://localhost:8080/"
        },
        "id": "RNSC34fD9mLa",
        "outputId": "b99d65a3-019f-493b-b3d6-705955f9da81"
      },
      "execution_count": 38,
      "outputs": [
        {
          "output_type": "stream",
          "name": "stdout",
          "text": [
            "Resultant Vector: (6, 8)\n"
          ]
        }
      ]
    },
    {
      "cell_type": "code",
      "source": [
        "# 11. Create a class Person with attributes name and age. Add a method greet() that prints \"Hello, my name is {name} and I am {age} years old\n",
        "\n",
        "class Person:\n",
        "    def __init__(self, name, age):\n",
        "        self.name = name\n",
        "        self.age = age\n",
        "\n",
        "    def greet(self):\n",
        "        print(f\"Hello, my name is {self.name} and I am {self.age} years old\")\n",
        "\n",
        "# Example usage:\n",
        "p1 = Person(\"Monika\", 25)\n",
        "p1.greet()"
      ],
      "metadata": {
        "colab": {
          "base_uri": "https://localhost:8080/"
        },
        "id": "ZPp-tBuF9626",
        "outputId": "0a65db64-8511-4bff-ea54-dc592cee5e07"
      },
      "execution_count": 39,
      "outputs": [
        {
          "output_type": "stream",
          "name": "stdout",
          "text": [
            "Hello, my name is Monika and I am 25 years old\n"
          ]
        }
      ]
    },
    {
      "cell_type": "code",
      "source": [
        "# 12. Implement a class Student with attributes name and grades. Create a method average_grade() to compute the average of the grades.\n",
        "\n",
        "class Student:\n",
        "    def __init__(self, name, grades):\n",
        "        self.name = name\n",
        "        self.grades = grades  # Expecting a list of grades\n",
        "\n",
        "    def average_grade(self):\n",
        "        if not self.grades:\n",
        "            return 0\n",
        "        return sum(self.grades) / len(self.grades)\n",
        "\n",
        "# Example usage:\n",
        "s1 = Student(\"Monika\", [85, 90, 78, 92])\n",
        "print(f\"{s1.name}'s average grade is: {s1.average_grade():.2f}\")"
      ],
      "metadata": {
        "colab": {
          "base_uri": "https://localhost:8080/"
        },
        "id": "eDt1kXOQ-Mo8",
        "outputId": "66c0f24c-7dfe-455e-a62d-89bcad6fc704"
      },
      "execution_count": 40,
      "outputs": [
        {
          "output_type": "stream",
          "name": "stdout",
          "text": [
            "Monika's average grade is: 86.25\n"
          ]
        }
      ]
    },
    {
      "cell_type": "code",
      "source": [
        "# 13. Create a class Rectangle with methods set_dimensions() to set the dimensions and area() to calculate the area.\n",
        "\n",
        "class Rectangle:\n",
        "    def __init__(self):\n",
        "        self.length = 0\n",
        "        self.width = 0\n",
        "\n",
        "    def set_dimensions(self, length, width):\n",
        "        self.length = length\n",
        "        self.width = width\n",
        "\n",
        "    def area(self):\n",
        "        return self.length * self.width\n",
        "\n",
        "# Example usage:\n",
        "r = Rectangle()\n",
        "r.set_dimensions(5, 3)\n",
        "print(\"Area of the rectangle:\", r.area())"
      ],
      "metadata": {
        "colab": {
          "base_uri": "https://localhost:8080/"
        },
        "id": "r0kgCsL0-grj",
        "outputId": "5cc09364-8983-48b4-ab3f-b758daea28b9"
      },
      "execution_count": 41,
      "outputs": [
        {
          "output_type": "stream",
          "name": "stdout",
          "text": [
            "Area of the rectangle: 15\n"
          ]
        }
      ]
    },
    {
      "cell_type": "code",
      "source": [
        "# 14. Create a class Employee with a method calculate_salary() that computes the salary based on hours worked and hourly rate. Create a derived class Manager that adds a bonus to the salary.\n",
        "\n",
        "class Employee:\n",
        "    def __init__(self, name, hours_worked, hourly_rate):\n",
        "        self.name = name\n",
        "        self.hours_worked = hours_worked\n",
        "        self.hourly_rate = hourly_rate\n",
        "\n",
        "    def calculate_salary(self):\n",
        "        return self.hours_worked * self.hourly_rate\n",
        "\n",
        "class Manager(Employee):\n",
        "    def __init__(self, name, hours_worked, hourly_rate, bonus):\n",
        "        super().__init__(name, hours_worked, hourly_rate)\n",
        "        self.bonus = bonus\n",
        "\n",
        "    def calculate_salary(self):\n",
        "        base_salary = super().calculate_salary()\n",
        "        return base_salary + self.bonus\n",
        "\n",
        "# Example usage:\n",
        "emp = Employee(\"Edward\", 40, 300)\n",
        "mgr = Manager(\"Monika\", 45, 400, 5000)\n",
        "\n",
        "print(f\"{emp.name}'s Salary: ₹{emp.calculate_salary()}\")\n",
        "print(f\"{mgr.name}'s Salary (with bonus): ₹{mgr.calculate_salary()}\")"
      ],
      "metadata": {
        "colab": {
          "base_uri": "https://localhost:8080/"
        },
        "id": "iR5IA_-u-x6e",
        "outputId": "43a403da-fbf2-4c52-de06-ad8eb6a47564"
      },
      "execution_count": 43,
      "outputs": [
        {
          "output_type": "stream",
          "name": "stdout",
          "text": [
            "Edward's Salary: ₹12000\n",
            "Monika's Salary (with bonus): ₹23000\n"
          ]
        }
      ]
    },
    {
      "cell_type": "code",
      "source": [
        "# 15.  Create a class Product with attributes name, price, and quantity. Implement a method total_price() that calculates the total price of the product.\n",
        "\n",
        "class Product:\n",
        "    def __init__(self, name, price, quantity):\n",
        "        self.name = name\n",
        "        self.price = price\n",
        "        self.quantity = quantity\n",
        "\n",
        "    def total_price(self):\n",
        "        return self.price * self.quantity\n",
        "\n",
        "# Example usage:\n",
        "item = Product(\"Notebook\", 50, 4)\n",
        "print(f\"Total price for {item.quantity} {item.name}(s): ₹{item.total_price()}\")"
      ],
      "metadata": {
        "colab": {
          "base_uri": "https://localhost:8080/"
        },
        "id": "t886npcp_Onn",
        "outputId": "4d681ff0-b374-4049-d6d6-10aa77815814"
      },
      "execution_count": 44,
      "outputs": [
        {
          "output_type": "stream",
          "name": "stdout",
          "text": [
            "Total price for 4 Notebook(s): ₹200\n"
          ]
        }
      ]
    },
    {
      "cell_type": "code",
      "source": [
        "# 16. Create a class Animal with an abstract method sound(). Create two derived classes Cow and Sheep that implement the sound() method.\n",
        "\n",
        "from abc import ABC, abstractmethod\n",
        "\n",
        "# Abstract base class\n",
        "class Animal(ABC):\n",
        "    @abstractmethod\n",
        "    def sound(self):\n",
        "        pass\n",
        "\n",
        "# Derived class Cow\n",
        "class Cow(Animal):\n",
        "    def sound(self):\n",
        "        return \"Moo\"\n",
        "\n",
        "# Derived class Sheep\n",
        "class Sheep(Animal):\n",
        "    def sound(self):\n",
        "        return \"Baa\"\n",
        "\n",
        "# Example usage:\n",
        "animals = [Cow(), Sheep()]\n",
        "\n",
        "for animal in animals:\n",
        "    print(f\"{animal.__class__.__name__} says: {animal.sound()}\")"
      ],
      "metadata": {
        "colab": {
          "base_uri": "https://localhost:8080/"
        },
        "id": "XjyY6M4r_dbE",
        "outputId": "9a8c460c-3adc-4a59-c17f-02fd8d7627cb"
      },
      "execution_count": 45,
      "outputs": [
        {
          "output_type": "stream",
          "name": "stdout",
          "text": [
            "Cow says: Moo\n",
            "Sheep says: Baa\n"
          ]
        }
      ]
    },
    {
      "cell_type": "code",
      "source": [
        "# 17. Create a class Book with attributes title, author, and year_published. Add a method get_book_info() that returns a formatted string with the book's details.\n",
        "\n",
        "class Book:\n",
        "    def __init__(self, title, author, year_published):\n",
        "        self.title = title\n",
        "        self.author = author\n",
        "        self.year_published = year_published\n",
        "\n",
        "    def get_book_info(self):\n",
        "        return f\"'{self.title}' by {self.author}, published in {self.year_published}\"\n",
        "\n",
        "# Example usage:\n",
        "book1 = Book(\"The Alchemist\", \"Paulo Coelho\", 1988)\n",
        "print(book1.get_book_info())"
      ],
      "metadata": {
        "colab": {
          "base_uri": "https://localhost:8080/"
        },
        "id": "LQiZM5QN_vyD",
        "outputId": "1b9bbf26-fe6e-4e53-c4a5-07bb1316876c"
      },
      "execution_count": 46,
      "outputs": [
        {
          "output_type": "stream",
          "name": "stdout",
          "text": [
            "'The Alchemist' by Paulo Coelho, published in 1988\n"
          ]
        }
      ]
    },
    {
      "cell_type": "code",
      "source": [
        "# 18. Create a class House with attributes address and price. Create a derived class Mansion that adds an attribute number_of_rooms.\n",
        "\n",
        "# Base class\n",
        "class House:\n",
        "    def __init__(self, address, price):\n",
        "        self.address = address\n",
        "        self.price = price\n",
        "\n",
        "    def display_info(self):\n",
        "        return f\"Address: {self.address}, Price: ₹{self.price}\"\n",
        "\n",
        "# Derived class\n",
        "class Mansion(House):\n",
        "    def __init__(self, address, price, number_of_rooms):\n",
        "        super().__init__(address, price)\n",
        "        self.number_of_rooms = number_of_rooms\n",
        "\n",
        "    def display_info(self):\n",
        "        base_info = super().display_info()\n",
        "        return f\"{base_info}, Rooms: {self.number_of_rooms}\"\n",
        "\n",
        "# Example usage:\n",
        "m1 = Mansion(\"45 Elite Estate, Delhi\", 50000000, 12)\n",
        "print(m1.display_info())"
      ],
      "metadata": {
        "colab": {
          "base_uri": "https://localhost:8080/"
        },
        "id": "c7BGbDiwAAEz",
        "outputId": "0589d9df-8b63-4a7b-f6bd-cd993c6d17dc"
      },
      "execution_count": 47,
      "outputs": [
        {
          "output_type": "stream",
          "name": "stdout",
          "text": [
            "Address: 45 Elite Estate, Delhi, Price: ₹50000000, Rooms: 12\n"
          ]
        }
      ]
    },
    {
      "cell_type": "code",
      "source": [],
      "metadata": {
        "id": "L7MEa3di15S4"
      },
      "execution_count": null,
      "outputs": []
    }
  ]
}